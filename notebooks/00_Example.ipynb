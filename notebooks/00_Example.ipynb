{
 "cells": [
  {
   "cell_type": "code",
   "execution_count": 3,
   "metadata": {},
   "outputs": [
    {
     "output_type": "stream",
     "name": "stdout",
     "text": "Obtaining file:///Users/kienscherfp/sciebo/Teaching/Master/PDS/PDS_Project\nRequirement already satisfied: pandas in /Users/kienscherfp/opt/miniconda3/envs/PDS20/lib/python3.7/site-packages (from nextbike==0.0.1.dev1) (1.0.3)\nRequirement already satisfied: scikit-learn in /Users/kienscherfp/opt/miniconda3/envs/PDS20/lib/python3.7/site-packages (from nextbike==0.0.1.dev1) (0.22.1)\nRequirement already satisfied: click in /Users/kienscherfp/opt/miniconda3/envs/PDS20/lib/python3.7/site-packages (from nextbike==0.0.1.dev1) (7.1.1)\nRequirement already satisfied: numpy>=1.13.3 in /Users/kienscherfp/opt/miniconda3/envs/PDS20/lib/python3.7/site-packages (from pandas->nextbike==0.0.1.dev1) (1.18.1)\nRequirement already satisfied: pytz>=2017.2 in /Users/kienscherfp/opt/miniconda3/envs/PDS20/lib/python3.7/site-packages (from pandas->nextbike==0.0.1.dev1) (2019.3)\nRequirement already satisfied: python-dateutil>=2.6.1 in /Users/kienscherfp/opt/miniconda3/envs/PDS20/lib/python3.7/site-packages (from pandas->nextbike==0.0.1.dev1) (2.8.1)\nRequirement already satisfied: scipy>=0.17.0 in /Users/kienscherfp/opt/miniconda3/envs/PDS20/lib/python3.7/site-packages (from scikit-learn->nextbike==0.0.1.dev1) (1.4.1)\nRequirement already satisfied: joblib>=0.11 in /Users/kienscherfp/opt/miniconda3/envs/PDS20/lib/python3.7/site-packages (from scikit-learn->nextbike==0.0.1.dev1) (0.14.1)\nRequirement already satisfied: six>=1.5 in /Users/kienscherfp/opt/miniconda3/envs/PDS20/lib/python3.7/site-packages (from python-dateutil>=2.6.1->pandas->nextbike==0.0.1.dev1) (1.14.0)\nInstalling collected packages: nextbike\n  Attempting uninstall: nextbike\n    Found existing installation: nextbike 0.0.1.dev1\n    Uninstalling nextbike-0.0.1.dev1:\n      Successfully uninstalled nextbike-0.0.1.dev1\n  Running setup.py develop for nextbike\nSuccessfully installed nextbike\n"
    },
    {
     "output_type": "error",
     "ename": "ModuleNotFoundError",
     "evalue": "No module named 'nextbike'",
     "traceback": [
      "\u001b[0;31m---------------------------------------------------------------------------\u001b[0m",
      "\u001b[0;31mModuleNotFoundError\u001b[0m                       Traceback (most recent call last)",
      "\u001b[0;32m<ipython-input-3-99e54cb3832e>\u001b[0m in \u001b[0;36m<module>\u001b[0;34m\u001b[0m\n\u001b[1;32m      1\u001b[0m \u001b[0mget_ipython\u001b[0m\u001b[0;34m(\u001b[0m\u001b[0;34m)\u001b[0m\u001b[0;34m.\u001b[0m\u001b[0msystem\u001b[0m\u001b[0;34m(\u001b[0m\u001b[0;34m'pip install -e ..'\u001b[0m\u001b[0;34m)\u001b[0m\u001b[0;34m\u001b[0m\u001b[0;34m\u001b[0m\u001b[0m\n\u001b[0;32m----> 2\u001b[0;31m \u001b[0;32mimport\u001b[0m \u001b[0mnextbike\u001b[0m\u001b[0;34m\u001b[0m\u001b[0;34m\u001b[0m\u001b[0m\n\u001b[0m",
      "\u001b[0;31mModuleNotFoundError\u001b[0m: No module named 'nextbike'"
     ]
    }
   ],
   "source": [
    "!pip install -e ..\n",
    "import nextbike"
   ]
  },
  {
   "cell_type": "code",
   "execution_count": 5,
   "metadata": {},
   "outputs": [
    {
     "output_type": "stream",
     "name": "stdout",
     "text": "absl-py==0.9.0\nappnope==0.1.0\nastor==0.8.0\nattrs==19.3.0\nbackcall==0.1.0\nbleach==3.1.0\nbranca==0.4.0\ncachetools==4.1.0\ncertifi==2019.11.28\nchardet==3.0.4\nclick==7.1.1\nclick-plugins==1.1.1\ncligj==0.5.0\ncloudpickle==1.3.0\ncycler==0.10.0\ndecorator==4.4.2\ndefusedxml==0.6.0\nentrypoints==0.3\nFiona==1.8.11\nFlask==1.1.1\nfolium==0.10.1\ngast==0.2.2\nGDAL==3.0.2\ngeographiclib==1.50\ngeojson==2.5.0\ngeopandas==0.6.1\ngeopy==1.21.0\ngoogle-auth==1.13.1\ngoogle-auth-oauthlib==0.4.1\ngoogle-pasta==0.2.0\ngrpcio==1.16.1\nh5py==2.10.0\nidna==2.9\nimportlib-metadata==1.5.0\nipykernel==5.1.4\nipython==7.13.0\nipython-genutils==0.2.0\nipywidgets==7.5.1\nitsdangerous==1.1.0\njedi==0.16.0\nJinja2==2.11.1\njoblib==0.14.1\njsonschema==3.2.0\njupyter==1.0.0\njupyter-client==6.1.2\njupyter-console==6.1.0\njupyter-core==4.6.3\nKeras-Applications==1.0.8\nKeras-Preprocessing==1.1.0\nkiwisolver==1.1.0\nMarkdown==3.1.1\nMarkupSafe==1.1.1\nmatplotlib==3.1.3\nmistune==0.8.4\nmkl-fft==1.0.15\nmkl-random==1.1.0\nmkl-service==2.3.0\nmunch==2.5.0\nnbconvert==5.6.1\nnbformat==5.0.4\n# Editable install with no version control (nextbike==0.0.1.dev1)\n-e /Users/kienscherfp/sciebo/Teaching/Master/PDS/PDS_Project\nnotebook==6.0.3\nnumpy==1.18.1\noauthlib==3.1.0\nopt-einsum==3.1.0\npandas==1.0.3\npandocfilters==1.4.2\nparso==0.6.2\n-e git+git@github.com:IS3UniCologne/PDS_Code.git@ac6f79c32eea533a45206ea1158744af166a4ff0#egg=pds&subdirectory=10_Python_Software_Projects/pds\npexpect==4.8.0\npickleshare==0.7.5\nprometheus-client==0.7.1\nprompt-toolkit==3.0.4\nprotobuf==3.11.4\nptyprocess==0.6.0\npyasn1==0.4.8\npyasn1-modules==0.2.8\nPygments==2.6.1\npyparsing==2.4.6\npyproj==2.4.1\npyrsistent==0.16.0\npython-dateutil==2.8.1\npytz==2019.3\npyzmq==18.1.1\nqtconsole==4.7.2\nQtPy==1.9.0\nrequests==2.23.0\nrequests-oauthlib==1.3.0\nrsa==4.0\nRtree==0.9.3\nscikit-learn==0.22.1\nscipy==1.4.1\nseaborn==0.10.0\nSend2Trash==1.5.0\nShapely==1.6.4.post2\nsix==1.14.0\ntensorboard==2.1.1\ntensorflow==2.1.0\ntensorflow-estimator==2.1.0\ntermcolor==1.1.0\nterminado==0.8.3\ntestpath==0.4.4\ntfp-nightly==0.10.0.dev20200408\ntornado==6.0.4\ntraitlets==4.3.3\nurllib3==1.25.8\nvincenty==0.1.4\nwcwidth==0.1.9\nwebencodings==0.5.1\nWerkzeug==1.0.0\nwidgetsnbextension==3.5.1\nwrapt==1.12.1\nzipp==2.2.0\n"
    }
   ],
   "source": [
    "!pip freeze"
   ]
  },
  {
   "cell_type": "code",
   "execution_count": null,
   "metadata": {},
   "outputs": [],
   "source": []
  }
 ],
 "metadata": {
  "kernelspec": {
   "display_name": "Python 3",
   "language": "python",
   "name": "python3"
  },
  "language_info": {
   "codemirror_mode": {
    "name": "ipython",
    "version": 3
   },
   "file_extension": ".py",
   "mimetype": "text/x-python",
   "name": "python",
   "nbconvert_exporter": "python",
   "pygments_lexer": "ipython3",
   "version": "3.7.7-final"
  }
 },
 "nbformat": 4,
 "nbformat_minor": 4
}